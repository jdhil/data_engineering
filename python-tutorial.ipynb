{
 "cells": [
  {
   "cell_type": "markdown",
   "metadata": {},
   "source": [
    "# Python Tutorial for Beginners"
   ]
  },
  {
   "cell_type": "markdown",
   "metadata": {},
   "source": [
    "## Outline\n",
    "\n",
    "1. Data Types\n",
    "2. Functions\n",
    "3. Data Structures\n",
    "4. Loops\n",
    "5. Conditionals\n",
    "6. List Comprehension\n",
    "7. Yield Statement\n",
    "8. Exception Handling\n",
    "9. Classes"
   ]
  },
  {
   "cell_type": "markdown",
   "metadata": {},
   "source": [
    "## 1. Data Types\n",
    "\n",
    "### `float` and `integer`: \n",
    "These are the types that represent numerical values. The difference is that `float` has decimal places, but `integer` doesn't."
   ]
  },
  {
   "cell_type": "code",
   "execution_count": 1,
   "metadata": {},
   "outputs": [
    {
     "name": "stdout",
     "output_type": "stream",
     "text": [
      "<class 'int'>\n",
      "<class 'int'>\n"
     ]
    }
   ],
   "source": [
    "# integers and floats\n",
    "\n",
    "print(type(2))\n",
    "print(type(3))"
   ]
  },
  {
   "cell_type": "markdown",
   "metadata": {},
   "source": [
    "- The arithmetic operators work as expected for `integer` and `float`. Very often representing a numerical value with either is good."
   ]
  },
  {
   "cell_type": "code",
   "execution_count": 2,
   "metadata": {},
   "outputs": [
    {
     "name": "stdout",
     "output_type": "stream",
     "text": [
      "4.0\n",
      "5\n",
      "5.0\n",
      "2\n",
      "128\n"
     ]
    }
   ],
   "source": [
    "print(12 / 3)     # int / int -> float\n",
    "print(17 // 3)    # floor division\n",
    "print(17.0 // 3)  # return float if one of the values is float \n",
    "print(17 % 3)     # remainder\n",
    "print(2 ** 7)     # 2 to the power of 7"
   ]
  },
  {
   "cell_type": "markdown",
   "metadata": {},
   "source": [
    "- **Note**: Some functions only take one format. We will discuss the function `range` later."
   ]
  },
  {
   "cell_type": "code",
   "execution_count": 3,
   "metadata": {},
   "outputs": [
    {
     "data": {
      "text/plain": [
       "range(0, 2)"
      ]
     },
     "execution_count": 3,
     "metadata": {},
     "output_type": "execute_result"
    }
   ],
   "source": [
    "range(2)"
   ]
  },
  {
   "cell_type": "code",
   "execution_count": 4,
   "metadata": {},
   "outputs": [
    {
     "ename": "TypeError",
     "evalue": "'float' object cannot be interpreted as an integer",
     "output_type": "error",
     "traceback": [
      "\u001b[0;31m---------------------------------------------------------------------------\u001b[0m",
      "\u001b[0;31mTypeError\u001b[0m                                 Traceback (most recent call last)",
      "\u001b[0;32m<ipython-input-4-fcf584e3227f>\u001b[0m in \u001b[0;36m<module>\u001b[0;34m()\u001b[0m\n\u001b[0;32m----> 1\u001b[0;31m \u001b[0mrange\u001b[0m\u001b[0;34m(\u001b[0m\u001b[0;36m2.0\u001b[0m\u001b[0;34m)\u001b[0m\u001b[0;34m\u001b[0m\u001b[0m\n\u001b[0m",
      "\u001b[0;31mTypeError\u001b[0m: 'float' object cannot be interpreted as an integer"
     ]
    }
   ],
   "source": [
    "range(2.0)"
   ]
  },
  {
   "cell_type": "markdown",
   "metadata": {},
   "source": [
    "#### `string`: \n",
    "This is the type that represents text values. A `string` object can be created with a pair of quotes `'` or double quotes `\"`."
   ]
  },
  {
   "cell_type": "code",
   "execution_count": 5,
   "metadata": {},
   "outputs": [
    {
     "name": "stdout",
     "output_type": "stream",
     "text": [
      "hello world!\n",
      "Python is awesome.\n"
     ]
    }
   ],
   "source": [
    "print('hello world!')\n",
    "print(\"Python is awesome.\")"
   ]
  },
  {
   "cell_type": "markdown",
   "metadata": {},
   "source": [
    "- A `string` object can be taken for an ordered collection of characters. Each element in the collection can be accessed:"
   ]
  },
  {
   "cell_type": "code",
   "execution_count": 6,
   "metadata": {},
   "outputs": [
    {
     "name": "stdout",
     "output_type": "stream",
     "text": [
      "P\n",
      "y\n",
      "t\n"
     ]
    }
   ],
   "source": [
    "# Here we use a variable to save a value\n",
    "txt = 'Python is awesome!'\n",
    "\n",
    "print(txt[0]) # This is 'Python is awesome!'[0]\n",
    "print(txt[1]) # This is 'Python is awesome!'[1]\n",
    "print(txt[2]) # This is 'Python is awesome!'[2]"
   ]
  },
  {
   "cell_type": "markdown",
   "metadata": {},
   "source": [
    "- Some operators can be apply to a string:"
   ]
  },
  {
   "cell_type": "code",
   "execution_count": 7,
   "metadata": {},
   "outputs": [
    {
     "name": "stdout",
     "output_type": "stream",
     "text": [
      "Python is awesome! I love it!\n",
      "18\n"
     ]
    }
   ],
   "source": [
    "print(txt + \" I love it!\")\n",
    "print(len(txt))"
   ]
  },
  {
   "cell_type": "markdown",
   "metadata": {},
   "source": [
    "#### `boolean`: \n",
    "This is the type that has either `True` or `False` value."
   ]
  },
  {
   "cell_type": "code",
   "execution_count": 8,
   "metadata": {},
   "outputs": [
    {
     "name": "stdout",
     "output_type": "stream",
     "text": [
      "<class 'bool'>\n",
      "<class 'bool'>\n"
     ]
    },
    {
     "ename": "NameError",
     "evalue": "name 'true' is not defined",
     "output_type": "error",
     "traceback": [
      "\u001b[0;31m---------------------------------------------------------------------------\u001b[0m",
      "\u001b[0;31mNameError\u001b[0m                                 Traceback (most recent call last)",
      "\u001b[0;32m<ipython-input-8-8779f3b4e7f4>\u001b[0m in \u001b[0;36m<module>\u001b[0;34m()\u001b[0m\n\u001b[1;32m      3\u001b[0m \u001b[0mprint\u001b[0m\u001b[0;34m(\u001b[0m\u001b[0mtype\u001b[0m\u001b[0;34m(\u001b[0m\u001b[0;32mTrue\u001b[0m\u001b[0;34m)\u001b[0m\u001b[0;34m)\u001b[0m\u001b[0;34m\u001b[0m\u001b[0m\n\u001b[1;32m      4\u001b[0m \u001b[0mprint\u001b[0m\u001b[0;34m(\u001b[0m\u001b[0mtype\u001b[0m\u001b[0;34m(\u001b[0m\u001b[0;32mFalse\u001b[0m\u001b[0;34m)\u001b[0m\u001b[0;34m)\u001b[0m\u001b[0;34m\u001b[0m\u001b[0m\n\u001b[0;32m----> 5\u001b[0;31m \u001b[0mprint\u001b[0m\u001b[0;34m(\u001b[0m\u001b[0mtype\u001b[0m\u001b[0;34m(\u001b[0m\u001b[0mtrue\u001b[0m\u001b[0;34m)\u001b[0m\u001b[0;34m)\u001b[0m\u001b[0;34m\u001b[0m\u001b[0m\n\u001b[0m",
      "\u001b[0;31mNameError\u001b[0m: name 'true' is not defined"
     ]
    }
   ],
   "source": [
    "# Notice that the keywords are case sensitive\n",
    "\n",
    "print(type(True))\n",
    "print(type(False))\n",
    "print(type(true))"
   ]
  },
  {
   "cell_type": "markdown",
   "metadata": {},
   "source": [
    "- Usual logic relationship applies:"
   ]
  },
  {
   "cell_type": "code",
   "execution_count": 9,
   "metadata": {},
   "outputs": [
    {
     "name": "stdout",
     "output_type": "stream",
     "text": [
      "True\n",
      "False\n",
      "False\n"
     ]
    }
   ],
   "source": [
    "print(True and True)\n",
    "print(True and False)\n",
    "print(False and False)"
   ]
  },
  {
   "cell_type": "code",
   "execution_count": 10,
   "metadata": {},
   "outputs": [
    {
     "name": "stdout",
     "output_type": "stream",
     "text": [
      "True\n",
      "True\n",
      "False\n"
     ]
    }
   ],
   "source": [
    "print(True or True)\n",
    "print(True or False)\n",
    "print(False or False)"
   ]
  },
  {
   "cell_type": "markdown",
   "metadata": {},
   "source": [
    "## 2. Functions\n",
    "\n",
    "We have seen the usage of a variable help to avoid excessive typing. Very often, if a process is complicated and likely to be reused, one can pack it as a **function**. To call (use) a particular function:"
   ]
  },
  {
   "cell_type": "code",
   "execution_count": 11,
   "metadata": {},
   "outputs": [
    {
     "data": {
      "text/plain": [
       "1"
      ]
     },
     "execution_count": 11,
     "metadata": {},
     "output_type": "execute_result"
    }
   ],
   "source": [
    "abs(-1)"
   ]
  },
  {
   "cell_type": "code",
   "execution_count": 12,
   "metadata": {},
   "outputs": [
    {
     "name": "stdout",
     "output_type": "stream",
     "text": [
      "1.0\n",
      "0.0\n",
      "0.0\n",
      "1.0\n"
     ]
    }
   ],
   "source": [
    "# Here we use a module, math\n",
    "import math\n",
    "\n",
    "print(math.exp(0))\n",
    "print(math.log(1))\n",
    "print(math.sin(0))\n",
    "print(math.cos(0))"
   ]
  },
  {
   "cell_type": "markdown",
   "metadata": {},
   "source": [
    "#### Custom functions: \n",
    "\n",
    "We might come up with our own function. To define a custom function, one can use either `def` or `lambda`."
   ]
  },
  {
   "cell_type": "code",
   "execution_count": 13,
   "metadata": {},
   "outputs": [],
   "source": [
    "# Note that this is our first cell of code without any value returned\n",
    "\n",
    "import math\n",
    "\n",
    "# def notation\n",
    "def vector_length(x, y):\n",
    "    return math.sqrt(x**2 + y**2)\n",
    "\n",
    "# lambda notation\n",
    "Vector_length = lambda x, y: math.sqrt(x**2 + y**2)"
   ]
  },
  {
   "cell_type": "markdown",
   "metadata": {},
   "source": [
    "Calling a custom function is not different from a built-in function:"
   ]
  },
  {
   "cell_type": "code",
   "execution_count": 14,
   "metadata": {},
   "outputs": [
    {
     "name": "stdout",
     "output_type": "stream",
     "text": [
      "5.0\n",
      "5.0\n"
     ]
    }
   ],
   "source": [
    "print(vector_length(3, 4))\n",
    "print(Vector_length(3, 4))"
   ]
  },
  {
   "cell_type": "markdown",
   "metadata": {},
   "source": [
    "## 3. Data Structures"
   ]
  },
  {
   "cell_type": "markdown",
   "metadata": {},
   "source": [
    "#### List: \n",
    "\n",
    "`list` is a widely used data type to collect elements in a linear order. To create a list, use `[]`:"
   ]
  },
  {
   "cell_type": "code",
   "execution_count": 15,
   "metadata": {},
   "outputs": [
    {
     "name": "stdout",
     "output_type": "stream",
     "text": [
      "<class 'list'>\n",
      "<class 'list'>\n",
      "<class 'list'>\n"
     ]
    }
   ],
   "source": [
    "numlst = [1,2,3,4,5]\n",
    "stringlst = ['a', 'b', 'c']\n",
    "mixlst = [1, 'b', True]\n",
    "\n",
    "print(type(numlst))\n",
    "print(type(stringlst))\n",
    "print(type(mixlst))"
   ]
  },
  {
   "cell_type": "markdown",
   "metadata": {},
   "source": [
    "- Accessing a single element in a list:"
   ]
  },
  {
   "cell_type": "code",
   "execution_count": 16,
   "metadata": {},
   "outputs": [
    {
     "name": "stdout",
     "output_type": "stream",
     "text": [
      "1\n",
      "b\n",
      "3\n"
     ]
    }
   ],
   "source": [
    "print(mixlst[0])\n",
    "print(stringlst[1])\n",
    "print(numlst[2])"
   ]
  },
  {
   "cell_type": "markdown",
   "metadata": {},
   "source": [
    "- Slicing a list:"
   ]
  },
  {
   "cell_type": "code",
   "execution_count": 17,
   "metadata": {},
   "outputs": [
    {
     "name": "stdout",
     "output_type": "stream",
     "text": [
      "['b', True]\n",
      "['b', True]\n"
     ]
    }
   ],
   "source": [
    "print(mixlst[1:3])\n",
    "print(mixlst[1:])"
   ]
  },
  {
   "cell_type": "code",
   "execution_count": 18,
   "metadata": {},
   "outputs": [
    {
     "name": "stdout",
     "output_type": "stream",
     "text": [
      "[1, 2, 3, 4]\n",
      "[1, 2, 3, 4]\n"
     ]
    }
   ],
   "source": [
    "print(numlst[0:4])\n",
    "print(numlst[:4])"
   ]
  },
  {
   "cell_type": "markdown",
   "metadata": {},
   "source": [
    "- Slicing returns a list, even when there is only one element selected:"
   ]
  },
  {
   "cell_type": "code",
   "execution_count": 19,
   "metadata": {},
   "outputs": [
    {
     "name": "stdout",
     "output_type": "stream",
     "text": [
      "['b']\n",
      "b\n"
     ]
    }
   ],
   "source": [
    "print(stringlst[1:2])\n",
    "print(stringlst[1])"
   ]
  },
  {
   "cell_type": "markdown",
   "metadata": {},
   "source": [
    "- Updating: **assignment** can be used to update an list element."
   ]
  },
  {
   "cell_type": "code",
   "execution_count": 20,
   "metadata": {},
   "outputs": [
    {
     "name": "stdout",
     "output_type": "stream",
     "text": [
      "[1, 'b', True]\n",
      "[1, 'b', False]\n"
     ]
    }
   ],
   "source": [
    "print(mixlst)\n",
    "mixlst[2] = False  \n",
    "print(mixlst)"
   ]
  },
  {
   "cell_type": "markdown",
   "metadata": {},
   "source": [
    "- Some built-in funcitons for list:"
   ]
  },
  {
   "cell_type": "code",
   "execution_count": 21,
   "metadata": {},
   "outputs": [
    {
     "name": "stdout",
     "output_type": "stream",
     "text": [
      "3\n",
      "c\n",
      "15\n"
     ]
    }
   ],
   "source": [
    "print(len(stringlst))\n",
    "print(max(stringlst))\n",
    "print(sum(numlst))"
   ]
  },
  {
   "cell_type": "code",
   "execution_count": 22,
   "metadata": {},
   "outputs": [
    {
     "name": "stdout",
     "output_type": "stream",
     "text": [
      "True\n",
      "False\n"
     ]
    }
   ],
   "source": [
    "print(all([True, True, True]))\n",
    "print(all([True, True, False]))"
   ]
  },
  {
   "cell_type": "code",
   "execution_count": 23,
   "metadata": {},
   "outputs": [
    {
     "name": "stdout",
     "output_type": "stream",
     "text": [
      "False\n",
      "True\n"
     ]
    }
   ],
   "source": [
    "print(any([False, False, False]))\n",
    "print(any([True, False, False]))"
   ]
  },
  {
   "cell_type": "markdown",
   "metadata": {},
   "source": [
    "- Iterables. to create the `numlst` we did \n",
    "```\n",
    "numlst = [1,2,3,4,5]\n",
    "```\n",
    "Imagine if we need a list from 0 to 1 million, we definitely don't want to type all of the numbers. A good way to do so is to use the function: `range`."
   ]
  },
  {
   "cell_type": "code",
   "execution_count": 24,
   "metadata": {},
   "outputs": [
    {
     "name": "stdout",
     "output_type": "stream",
     "text": [
      "range(0, 1000001)\n",
      "<class 'range'>\n"
     ]
    }
   ],
   "source": [
    "rng = range(1000001)\n",
    "\n",
    "print(rng)\n",
    "print(type(rng))"
   ]
  },
  {
   "cell_type": "markdown",
   "metadata": {},
   "source": [
    "The outpur `range(0, 1000000)` is of the type `range`. This is an iterable type, so it can be used in a `for` loop (as we will see soon). \n",
    "\n",
    "**Note**: `range` is not a list, meaning the numbers are not saved in the memory until we request some explicit output."
   ]
  },
  {
   "cell_type": "code",
   "execution_count": 25,
   "metadata": {},
   "outputs": [
    {
     "name": "stdout",
     "output_type": "stream",
     "text": [
      "1000000\n",
      "0\n",
      "True\n",
      "False\n"
     ]
    }
   ],
   "source": [
    "print(max(rng))\n",
    "print(min(rng))\n",
    "print(100 in rng)  # one can replace 100 by any number from 0 to 1 million\n",
    "print(1000001 in rng)"
   ]
  },
  {
   "cell_type": "markdown",
   "metadata": {},
   "source": [
    "#### `tuple`\n",
    "\n",
    "Another popular iterable is called `tuple`. The most important difference between `list` and `tuple` is that\n",
    "- a `tuple` is created with `()`.\n",
    "- one cannot update element in a `tuple`."
   ]
  },
  {
   "cell_type": "code",
   "execution_count": 26,
   "metadata": {},
   "outputs": [
    {
     "name": "stdout",
     "output_type": "stream",
     "text": [
      "(1, 2, 3, 4)\n",
      "<class 'tuple'>\n",
      "1\n",
      "(2, 3, 4)\n"
     ]
    }
   ],
   "source": [
    "tup = (1,2,3,4)\n",
    "\n",
    "print(tup)\n",
    "print(type(tup))\n",
    "print(tup[0])\n",
    "print(tup[1:])"
   ]
  },
  {
   "cell_type": "code",
   "execution_count": 27,
   "metadata": {},
   "outputs": [
    {
     "ename": "TypeError",
     "evalue": "'tuple' object does not support item assignment",
     "output_type": "error",
     "traceback": [
      "\u001b[0;31m---------------------------------------------------------------------------\u001b[0m",
      "\u001b[0;31mTypeError\u001b[0m                                 Traceback (most recent call last)",
      "\u001b[0;32m<ipython-input-27-fd87db84a0b4>\u001b[0m in \u001b[0;36m<module>\u001b[0;34m()\u001b[0m\n\u001b[1;32m      1\u001b[0m \u001b[0;31m# No updating!\u001b[0m\u001b[0;34m\u001b[0m\u001b[0;34m\u001b[0m\u001b[0m\n\u001b[1;32m      2\u001b[0m \u001b[0;34m\u001b[0m\u001b[0m\n\u001b[0;32m----> 3\u001b[0;31m \u001b[0mtup\u001b[0m\u001b[0;34m[\u001b[0m\u001b[0;36m0\u001b[0m\u001b[0;34m]\u001b[0m \u001b[0;34m=\u001b[0m \u001b[0;36m5\u001b[0m\u001b[0;34m\u001b[0m\u001b[0m\n\u001b[0m",
      "\u001b[0;31mTypeError\u001b[0m: 'tuple' object does not support item assignment"
     ]
    }
   ],
   "source": [
    "# No updating!\n",
    "\n",
    "tup[0] = 5"
   ]
  },
  {
   "cell_type": "markdown",
   "metadata": {},
   "source": [
    "#### Dictionary\n",
    "\n",
    "Another popular way to collect data is to arrange them into pairs of key and value. Instead of indexing each value as in list, we name it."
   ]
  },
  {
   "cell_type": "code",
   "execution_count": 28,
   "metadata": {},
   "outputs": [
    {
     "name": "stdout",
     "output_type": "stream",
     "text": [
      "<class 'dict'>\n",
      "{'name': 'Newton', 'gender': 'male'}\n"
     ]
    }
   ],
   "source": [
    "me = {\"name\":\"Newton\", \"gender\":\"male\"}\n",
    "\n",
    "print(type(me))\n",
    "print(me)"
   ]
  },
  {
   "cell_type": "markdown",
   "metadata": {},
   "source": [
    "- To access any value in a dictionary, we specify the key:"
   ]
  },
  {
   "cell_type": "code",
   "execution_count": 29,
   "metadata": {},
   "outputs": [
    {
     "data": {
      "text/plain": [
       "'Newton'"
      ]
     },
     "execution_count": 29,
     "metadata": {},
     "output_type": "execute_result"
    }
   ],
   "source": [
    "me[\"name\"]"
   ]
  },
  {
   "cell_type": "markdown",
   "metadata": {},
   "source": [
    "- Updating is similar to `list`:"
   ]
  },
  {
   "cell_type": "code",
   "execution_count": 30,
   "metadata": {},
   "outputs": [
    {
     "name": "stdout",
     "output_type": "stream",
     "text": [
      "Newton\n",
      "{'name': 'Isaac Newton', 'gender': 'male'}\n"
     ]
    }
   ],
   "source": [
    "print(me[\"name\"])\n",
    "me[\"name\"]=\"Isaac Newton\"\n",
    "print(me)"
   ]
  },
  {
   "cell_type": "markdown",
   "metadata": {},
   "source": [
    "**Note**: There is **NO** order for the dictionary - `name` doesn't come before `gender` for the dictionary `me`. Also, indexing doesn't work:"
   ]
  },
  {
   "cell_type": "code",
   "execution_count": 31,
   "metadata": {},
   "outputs": [
    {
     "ename": "KeyError",
     "evalue": "0",
     "output_type": "error",
     "traceback": [
      "\u001b[0;31m---------------------------------------------------------------------------\u001b[0m",
      "\u001b[0;31mKeyError\u001b[0m                                  Traceback (most recent call last)",
      "\u001b[0;32m<ipython-input-31-b91e2a0788aa>\u001b[0m in \u001b[0;36m<module>\u001b[0;34m()\u001b[0m\n\u001b[0;32m----> 1\u001b[0;31m \u001b[0mme\u001b[0m\u001b[0;34m[\u001b[0m\u001b[0;36m0\u001b[0m\u001b[0;34m]\u001b[0m\u001b[0;34m\u001b[0m\u001b[0m\n\u001b[0m",
      "\u001b[0;31mKeyError\u001b[0m: 0"
     ]
    }
   ],
   "source": [
    "me[0]"
   ]
  },
  {
   "cell_type": "markdown",
   "metadata": {},
   "source": [
    "#### Built-in attributes of `dictionary`\n",
    "\n",
    "A dictionary comes with key, values and items. `dict.items()` returns an object that behaves like a list of tuples, but one should be careful about the resulted order in the list, because it was not there in the dictionary."
   ]
  },
  {
   "cell_type": "code",
   "execution_count": 32,
   "metadata": {},
   "outputs": [
    {
     "name": "stdout",
     "output_type": "stream",
     "text": [
      "dict_keys(['name', 'gender'])\n",
      "dict_values(['Isaac Newton', 'male'])\n",
      "dict_items([('name', 'Isaac Newton'), ('gender', 'male')])\n"
     ]
    }
   ],
   "source": [
    "print(me.keys())\n",
    "print(me.values())\n",
    "print(me.items())"
   ]
  },
  {
   "cell_type": "markdown",
   "metadata": {},
   "source": [
    "## 4. Loops\n",
    "\n",
    "- for:\n",
    "    iterate through: list, string, dictionary\n",
    "    - cumulating? updating? fibonassi?\n",
    "\n",
    "- while:\n",
    "    when stopping rule is unclear"
   ]
  },
  {
   "cell_type": "markdown",
   "metadata": {},
   "source": [
    "#### Iterating through an iterator\n",
    "\n",
    "**Ex 1**: A common way to use a iterator is to use with a `for` loop. Cumulating is a common example of using loop:"
   ]
  },
  {
   "cell_type": "code",
   "execution_count": 33,
   "metadata": {},
   "outputs": [
    {
     "name": "stdout",
     "output_type": "stream",
     "text": [
      "15\n",
      "15\n"
     ]
    }
   ],
   "source": [
    "sum_ = 0\n",
    "\n",
    "for i in numlst:\n",
    "    sum_ += i   # equivalent to sum_ = sum_ + i\n",
    "    \n",
    "print(sum_)\n",
    "print(sum(numlst))"
   ]
  },
  {
   "cell_type": "markdown",
   "metadata": {},
   "source": [
    "**EX 2**: `for` loop can also be used to update a list.\n",
    "\n",
    "**Note**: \n",
    "- The first cell below extract the elements from `numlst` without changing it.\n",
    "- A `range` object is used to generate the indexes in `numlst`."
   ]
  },
  {
   "cell_type": "code",
   "execution_count": 34,
   "metadata": {},
   "outputs": [
    {
     "name": "stdout",
     "output_type": "stream",
     "text": [
      "4\n",
      "5\n",
      "6\n",
      "7\n",
      "8\n"
     ]
    }
   ],
   "source": [
    "n = len(numlst) \n",
    "\n",
    "for i in range(n):\n",
    "    print(numlst[i] + 3)"
   ]
  },
  {
   "cell_type": "code",
   "execution_count": 35,
   "metadata": {},
   "outputs": [
    {
     "name": "stdout",
     "output_type": "stream",
     "text": [
      "[1, 2, 3, 4, 5]\n"
     ]
    }
   ],
   "source": [
    "print(numlst)"
   ]
  },
  {
   "cell_type": "markdown",
   "metadata": {},
   "source": [
    "Now we try to update the list.\n",
    "\n",
    "**Note**: No output from the first cell of code:"
   ]
  },
  {
   "cell_type": "code",
   "execution_count": 36,
   "metadata": {},
   "outputs": [],
   "source": [
    "n = len(numlst) \n",
    "\n",
    "for i in range(n):\n",
    "    numlst[i] = numlst[i] + 3"
   ]
  },
  {
   "cell_type": "code",
   "execution_count": 37,
   "metadata": {},
   "outputs": [
    {
     "name": "stdout",
     "output_type": "stream",
     "text": [
      "[4, 5, 6, 7, 8]\n"
     ]
    }
   ],
   "source": [
    "print(numlst)"
   ]
  },
  {
   "cell_type": "markdown",
   "metadata": {},
   "source": [
    "**Ex 3**: A more complicated case is when each step depends on the previous steps. <a href=\"https://en.wikipedia.org/wiki/Fibonacci_number\">Fibonacci number</a> is a good example. "
   ]
  },
  {
   "cell_type": "code",
   "execution_count": 38,
   "metadata": {},
   "outputs": [
    {
     "name": "stdout",
     "output_type": "stream",
     "text": [
      "The 10th Fibonacci number is 55\n"
     ]
    }
   ],
   "source": [
    "n = 8\n",
    "\n",
    "prev = 1\n",
    "fibo = 1\n",
    "for i in range(n):\n",
    "    tmp = fibo\n",
    "    fibo = fibo + prev\n",
    "    prev = tmp\n",
    "    \n",
    "print(\"The {}th Fibonacci number is {}\".format(n+2, fibo))"
   ]
  },
  {
   "cell_type": "markdown",
   "metadata": {},
   "source": [
    "### `while`\n",
    "\n",
    "Another common type of loops is `while` loop. In a `for` loop we specify explicitly the range of elements to iterate through, but very often we don't know that (without more complicated math) in advance.\n",
    "\n",
    "For example, if we want to sum the elements in `range(100001)` up to when the sum exceeds 1000. To avoid figuring out how many numbers we need, we can use a while loop as below:"
   ]
  },
  {
   "cell_type": "code",
   "execution_count": 39,
   "metadata": {},
   "outputs": [
    {
     "name": "stdout",
     "output_type": "stream",
     "text": [
      "The last number added was: 45\n",
      "The final sum is 1035\n"
     ]
    }
   ],
   "source": [
    "collections = range(100001)\n",
    "\n",
    "i = 0\n",
    "sum_ = 0\n",
    "while sum_ < 1000:  # Continue adding if sum_ is less then 1000\n",
    "    sum_ += collections[i]  # Update the sum_\n",
    "    i+=1                    # Update the index so that in the next round the next \n",
    "                            # element in the collections would be added\n",
    "    \n",
    "print(\"The last number added was: {}\".format(i-1))\n",
    "print(\"The final sum is {}\".format(sum_))"
   ]
  },
  {
   "cell_type": "markdown",
   "metadata": {},
   "source": [
    "## 5. Conditionals\n",
    "\n",
    "Very often we want to treat different values in different ways. **Conditionals** come in handy. The basic usage is like:\n",
    "```python\n",
    "if c1:\n",
    "    <do> A\n",
    "else:\n",
    "    <do> B\n",
    "```\n",
    "\n",
    "- The `if...else` statements can be nested:\n",
    "```python\n",
    "if c1:\n",
    "    <do> A\n",
    "else:\n",
    "    if c2:\n",
    "        <do> B\n",
    "    else:\n",
    "        <do> C\n",
    "```\n",
    "- Having an `if` follow an `else` is so common there is special syntax for it:\n",
    "```python\n",
    "if c1:\n",
    "    <do> A\n",
    "elif c2:\n",
    "    <do> B\n",
    "else:\n",
    "    <do> C\n",
    "```\n",
    "- Return A if c1 and c2 are true, B if c1 is true but not c2, C if c1 is false but c3 is true, and D if c1 and c3 are both false:\n",
    "```python\n",
    "if c1:\n",
    "    if c2:\n",
    "        <do> A\n",
    "    else:\n",
    "        <do> B\n",
    "elif c3:\n",
    "    <do> C\n",
    "else:\n",
    "    <do> D\n",
    "```\n",
    "\n",
    "- Use conditionals in `for` loop. Let's print only even numbers"
   ]
  },
  {
   "cell_type": "code",
   "execution_count": 40,
   "metadata": {},
   "outputs": [
    {
     "name": "stdout",
     "output_type": "stream",
     "text": [
      "4\n",
      "6\n",
      "8\n"
     ]
    }
   ],
   "source": [
    "n = len(numlst) \n",
    "\n",
    "for i in range(n):\n",
    "    if numlst[i] % 2 == 0:\n",
    "        print(numlst[i])\n",
    "    # Nothing to do otherwise, so no `else` is needed"
   ]
  },
  {
   "cell_type": "markdown",
   "metadata": {},
   "source": [
    "- Use conditionals in a function."
   ]
  },
  {
   "cell_type": "code",
   "execution_count": 41,
   "metadata": {},
   "outputs": [],
   "source": [
    "def classify(x):\n",
    "    if x % 2 != 0:\n",
    "        return \"odd\"\n",
    "    elif x != 0:\n",
    "        return \"even\"\n",
    "    else:\n",
    "        return \"zero\""
   ]
  },
  {
   "cell_type": "code",
   "execution_count": 42,
   "metadata": {},
   "outputs": [
    {
     "name": "stdout",
     "output_type": "stream",
     "text": [
      "zero\n",
      "odd\n",
      "even\n"
     ]
    }
   ],
   "source": [
    "print(classify(0))\n",
    "print(classify(11))\n",
    "print(classify(28))"
   ]
  },
  {
   "cell_type": "code",
   "execution_count": 43,
   "metadata": {},
   "outputs": [
    {
     "name": "stdout",
     "output_type": "stream",
     "text": [
      "4\n",
      "6\n",
      "8\n"
     ]
    }
   ],
   "source": [
    "for i in numlst:\n",
    "    if classify(i) == \"even\":\n",
    "        print(i)"
   ]
  },
  {
   "cell_type": "markdown",
   "metadata": {},
   "source": [
    "## 6. List Comprehension\n",
    "\n",
    "List comprehensions are another notation for defining lists. They mimic the mathematical notation of “set comprehensions” and have a concise syntax. A list comprehension has the form: \n",
    "```\n",
    "[ <expresion> for <element> in <list> if <boolean> ]\n",
    "```\n",
    "\n",
    "- First consider the list comprehension that squares every element in a list, as follows:"
   ]
  },
  {
   "cell_type": "code",
   "execution_count": 44,
   "metadata": {},
   "outputs": [
    {
     "data": {
      "text/plain": [
       "[0, 1, 4, 9, 16]"
      ]
     },
     "execution_count": 44,
     "metadata": {},
     "output_type": "execute_result"
    }
   ],
   "source": [
    "[ x* x for x in range(5)]"
   ]
  },
  {
   "cell_type": "markdown",
   "metadata": {},
   "source": [
    "- combined with conditionals"
   ]
  },
  {
   "cell_type": "code",
   "execution_count": 45,
   "metadata": {},
   "outputs": [
    {
     "data": {
      "text/plain": [
       "[0, 4, 16]"
      ]
     },
     "execution_count": 45,
     "metadata": {},
     "output_type": "execute_result"
    }
   ],
   "source": [
    "[ x* x for x in range(5) if x%2==0]"
   ]
  },
  {
   "cell_type": "markdown",
   "metadata": {},
   "source": [
    "What we did above is equivalent to the for loop below:"
   ]
  },
  {
   "cell_type": "code",
   "execution_count": 46,
   "metadata": {},
   "outputs": [
    {
     "data": {
      "text/plain": [
       "[0, 4, 16]"
      ]
     },
     "execution_count": 46,
     "metadata": {},
     "output_type": "execute_result"
    }
   ],
   "source": [
    "result_lst = []\n",
    "\n",
    "for x in range(5):\n",
    "    if x%2 == 0:\n",
    "        result_lst.append(x*x) # The function `append` appends an element to the tail of a list\n",
    "        \n",
    "result_lst"
   ]
  },
  {
   "cell_type": "markdown",
   "metadata": {},
   "source": [
    "## 7. Yield Statement\n",
    "\n",
    "Recall the difference between `range` and `list`. `list` save all the elements in the memory while `range` only memorize the rule to generate the elements. Saving a sequence of numbers from 0 to 1 million as a list takes a lot of spaces, save it as `range` reduces the memory used.\n",
    "\n",
    "Assume we want to collect all the even numbers in the sequence from 0 to 1 million. **First let's save this in a list with two different ways**:"
   ]
  },
  {
   "cell_type": "code",
   "execution_count": 47,
   "metadata": {},
   "outputs": [],
   "source": [
    "# list comprehension\n",
    "\n",
    "even_lst_comp = [x for x in range(100001) if x%2==0]"
   ]
  },
  {
   "cell_type": "code",
   "execution_count": 48,
   "metadata": {},
   "outputs": [],
   "source": [
    "# list for\n",
    "\n",
    "even_for_loop = []\n",
    "\n",
    "for x in range(100001):\n",
    "    if x%2==0:\n",
    "        even_for_loop.append(x)"
   ]
  },
  {
   "cell_type": "code",
   "execution_count": 49,
   "metadata": {},
   "outputs": [
    {
     "data": {
      "text/plain": [
       "True"
      ]
     },
     "execution_count": 49,
     "metadata": {},
     "output_type": "execute_result"
    }
   ],
   "source": [
    "# They gave teh same result\n",
    "\n",
    "even_lst_comp == even_for_loop"
   ]
  },
  {
   "cell_type": "code",
   "execution_count": 50,
   "metadata": {},
   "outputs": [
    {
     "name": "stdout",
     "output_type": "stream",
     "text": [
      "406496\n",
      "406496\n"
     ]
    }
   ],
   "source": [
    "# But they takes a lot of space:\n",
    "import sys\n",
    "\n",
    "print(sys.getsizeof(even_lst_comp))\n",
    "print(sys.getsizeof(even_for_loop))"
   ]
  },
  {
   "cell_type": "markdown",
   "metadata": {},
   "source": [
    "**Then let's save them as a generator**. \n",
    "\n",
    "To do this with a list comprehension, just use `()` instead of `[]`:"
   ]
  },
  {
   "cell_type": "code",
   "execution_count": 51,
   "metadata": {},
   "outputs": [
    {
     "name": "stdout",
     "output_type": "stream",
     "text": [
      "<class 'generator'>\n",
      "88\n"
     ]
    }
   ],
   "source": [
    "even_iter = (x for x in range(100001) if x%2==0)\n",
    "\n",
    "print(type(even_iter))\n",
    "print(sys.getsizeof(even_iter)) # Much smaller!"
   ]
  },
  {
   "cell_type": "markdown",
   "metadata": {},
   "source": [
    "**Note**: This **generator** is like `range` where the actual number is not saved, but the rule to generate these numbers is memorized so that one can extracts the values when needed:"
   ]
  },
  {
   "cell_type": "code",
   "execution_count": 52,
   "metadata": {},
   "outputs": [
    {
     "name": "stdout",
     "output_type": "stream",
     "text": [
      "0\n",
      "2\n",
      "4\n",
      "6\n",
      "8\n",
      "10\n",
      "12\n"
     ]
    }
   ],
   "source": [
    "# Remark: a generator can be used only once!\n",
    "\n",
    "for i in even_iter:\n",
    "    print(i)\n",
    "    \n",
    "    if i > 10: # This is here because we don't want to print the whole 500 thousand numbers\n",
    "        break"
   ]
  },
  {
   "cell_type": "markdown",
   "metadata": {},
   "source": [
    "It is a little bit abstract to create a **generator** with a for loop. We also need a function for this:"
   ]
  },
  {
   "cell_type": "code",
   "execution_count": 53,
   "metadata": {},
   "outputs": [
    {
     "name": "stdout",
     "output_type": "stream",
     "text": [
      "<class 'generator'>\n",
      "88\n"
     ]
    }
   ],
   "source": [
    "def get_gener():\n",
    "    for x in range(100001):\n",
    "        if x%2==0:\n",
    "            yield x\n",
    "\n",
    "even_gener = get_gener()\n",
    "print(type(even_gener))\n",
    "print(sys.getsizeof(even_gener)) # Much smaller!"
   ]
  },
  {
   "cell_type": "code",
   "execution_count": 54,
   "metadata": {},
   "outputs": [
    {
     "name": "stdout",
     "output_type": "stream",
     "text": [
      "0\n",
      "2\n",
      "4\n",
      "6\n",
      "8\n",
      "10\n",
      "12\n"
     ]
    }
   ],
   "source": [
    "for i in even_gener:\n",
    "    print(i)\n",
    "    \n",
    "    if i > 10: # This is here because we don't want to print the whole 500 thousand numbers\n",
    "        break"
   ]
  },
  {
   "cell_type": "markdown",
   "metadata": {},
   "source": [
    "## 8. Exception Handling\n",
    "\n",
    "- Exceptions and errors are messages given by Python indicating there is a problem in the interpretation or running of a program.  \n",
    "- Without exception handling these errors will cause the program to stop.  \n",
    "\n",
    "Typical errors/exceptions arise from:\n",
    "- FileNotFoundError: a file or folder referenced can't be found\n",
    "- ZeroDivisionError: division by zero\n",
    "- TypeError: incorrect object type used in a statement\n",
    "- SyntaxError: statement syntax incorrectly structured\n",
    "- ValueError: incorrect value used in a statement\n",
    "- IndexError: index referenced does not exist  \n",
    "\n",
    "The complete list is here: https://docs.python.org/3.6/library/exceptions.html\n",
    "\n",
    "\n",
    "A common usage is when streaming data, we might not have full control on the structure. Suppose we are streaming data about scientists and would like to know who won Nobel Prize and when. Consider the code below:"
   ]
  },
  {
   "cell_type": "code",
   "execution_count": 55,
   "metadata": {},
   "outputs": [
    {
     "ename": "KeyError",
     "evalue": "'Nobel Prize in Physics year'",
     "output_type": "error",
     "traceback": [
      "\u001b[0;31m---------------------------------------------------------------------------\u001b[0m",
      "\u001b[0;31mKeyError\u001b[0m                                  Traceback (most recent call last)",
      "\u001b[0;32m<ipython-input-55-e9bc9ebb1133>\u001b[0m in \u001b[0;36m<module>\u001b[0;34m()\u001b[0m\n\u001b[1;32m      7\u001b[0m \u001b[0mresult\u001b[0m \u001b[0;34m=\u001b[0m \u001b[0;34m[\u001b[0m\u001b[0;34m]\u001b[0m\u001b[0;34m\u001b[0m\u001b[0m\n\u001b[1;32m      8\u001b[0m \u001b[0;32mfor\u001b[0m \u001b[0mscientist\u001b[0m \u001b[0;32min\u001b[0m \u001b[0mstreaming_data\u001b[0m\u001b[0;34m:\u001b[0m\u001b[0;34m\u001b[0m\u001b[0m\n\u001b[0;32m----> 9\u001b[0;31m     \u001b[0mtup\u001b[0m \u001b[0;34m=\u001b[0m \u001b[0;34m(\u001b[0m\u001b[0mscientist\u001b[0m\u001b[0;34m[\u001b[0m\u001b[0;34m\"name\"\u001b[0m\u001b[0;34m]\u001b[0m\u001b[0;34m,\u001b[0m \u001b[0mscientist\u001b[0m\u001b[0;34m[\u001b[0m\u001b[0;34m\"Nobel Prize in Physics year\"\u001b[0m\u001b[0;34m]\u001b[0m\u001b[0;34m)\u001b[0m\u001b[0;34m\u001b[0m\u001b[0m\n\u001b[0m\u001b[1;32m     10\u001b[0m     \u001b[0mresult\u001b[0m\u001b[0;34m.\u001b[0m\u001b[0mappend\u001b[0m\u001b[0;34m(\u001b[0m\u001b[0mtup\u001b[0m\u001b[0;34m)\u001b[0m\u001b[0;34m\u001b[0m\u001b[0m\n",
      "\u001b[0;31mKeyError\u001b[0m: 'Nobel Prize in Physics year'"
     ]
    }
   ],
   "source": [
    "streaming_data = [\n",
    "    {\"name\":\"Issac Newton\", \"gender\":\"male\"},\n",
    "    {\"name\":\"Maries Curie\", \"gender\":\"female\", \"Nobel Prize in Physics year\": 1903},\n",
    "    {\"name\":\"Albert Einstein\", \"gender\":\"male\", \"Nobel Prize in Physics year\":1921}\n",
    "]\n",
    "\n",
    "result = []\n",
    "for scientist in streaming_data:\n",
    "    tup = (scientist[\"name\"], scientist[\"Nobel Prize in Physics year\"])\n",
    "    result.append(tup)"
   ]
  },
  {
   "cell_type": "markdown",
   "metadata": {},
   "source": [
    "Here is simple fix with `try...except`."
   ]
  },
  {
   "cell_type": "code",
   "execution_count": 56,
   "metadata": {},
   "outputs": [],
   "source": [
    "result = []\n",
    "\n",
    "for scientist in streaming_data:\n",
    "    try:\n",
    "        tup = (scientist[\"name\"], scientist[\"Nobel Prize in Physics year\"])\n",
    "        result.append(tup)\n",
    "    except KeyError:\n",
    "        pass"
   ]
  },
  {
   "cell_type": "code",
   "execution_count": 57,
   "metadata": {},
   "outputs": [
    {
     "data": {
      "text/plain": [
       "[('Maries Curie', 1903), ('Albert Einstein', 1921)]"
      ]
     },
     "execution_count": 57,
     "metadata": {},
     "output_type": "execute_result"
    }
   ],
   "source": [
    "result"
   ]
  },
  {
   "cell_type": "markdown",
   "metadata": {},
   "source": [
    "## 9. Classes\n",
    "\n",
    "We have learned to create variables and functions to perform some tasks. Very often we would like to pack them to organize our code better. A typical way is to implement a **class**.\n",
    "\n",
    "For example, we would like to maintain a collection of books, we might need to save the name and the author of each book, as well as to print out these pieces of information. We may then\n",
    "- create the **attributes** to save name and author\n",
    "- define the **method** `print_info` to show the information"
   ]
  },
  {
   "cell_type": "code",
   "execution_count": 58,
   "metadata": {},
   "outputs": [],
   "source": [
    "# Define the class as the template for the real instance\n",
    "\n",
    "class Book(object):\n",
    "    def __init__(self, name, author = None):\n",
    "        self.name = name\n",
    "        self.author = author\n",
    "    \n",
    "    def print_info(self):\n",
    "        return '<%s> by %s' % (self.name, self.author)"
   ]
  },
  {
   "cell_type": "code",
   "execution_count": 59,
   "metadata": {},
   "outputs": [],
   "source": [
    "# Create the actual instances (books)\n",
    "\n",
    "book_1 = Book('The little SAS book', 'Lora D. Delwiche')\n",
    "book_2 = Book('R CookBook', 'Paul Teetor')"
   ]
  },
  {
   "cell_type": "code",
   "execution_count": 60,
   "metadata": {},
   "outputs": [
    {
     "name": "stdout",
     "output_type": "stream",
     "text": [
      "The little SAS book\n",
      "Lora D. Delwiche\n",
      "<The little SAS book> by Lora D. Delwiche\n",
      "\n",
      "\n",
      "R CookBook\n",
      "Paul Teetor\n",
      "<R CookBook> by Paul Teetor\n"
     ]
    }
   ],
   "source": [
    "print(book_1.name)\n",
    "print(book_1.author)\n",
    "print(book_1.print_info())\n",
    "print(\"\\n\")\n",
    "print(book_2.name)\n",
    "print(book_2.author)\n",
    "print(book_2.print_info())"
   ]
  },
  {
   "cell_type": "markdown",
   "metadata": {},
   "source": [
    "#### Magic functions\n",
    "\n",
    "Instead of `print_info`, Python allow some special magic functions. A good example is:"
   ]
  },
  {
   "cell_type": "code",
   "execution_count": 61,
   "metadata": {},
   "outputs": [],
   "source": [
    "class Book(object):\n",
    "    def __init__(self, name, author = None):\n",
    "        self.name = name\n",
    "        self.author = author\n",
    "    \n",
    "    def __str__(self):\n",
    "        return '<%s> by %s' % (self.name, self.author)\n",
    "    \n",
    "book_1 = Book('The little SAS book', 'Lora D. Delwiche')\n",
    "book_2 = Book('R CookBook', 'Paul Teetor')"
   ]
  },
  {
   "cell_type": "code",
   "execution_count": 62,
   "metadata": {},
   "outputs": [
    {
     "name": "stdout",
     "output_type": "stream",
     "text": [
      "<The little SAS book> by Lora D. Delwiche\n",
      "<R CookBook> by Paul Teetor\n"
     ]
    }
   ],
   "source": [
    "# The function `print` actually calls __str__\n",
    "\n",
    "print(book_1)\n",
    "print(book_2)"
   ]
  },
  {
   "cell_type": "markdown",
   "metadata": {},
   "source": [
    "### `inheritance`\n",
    "\n",
    "A very common practice is to build new attirbutes on top of the existing class. For example, we already have the class `Book`, we might want to define a new `EBook` class which needs the `format` attribute that is not there in `Book`. We might also need to modify the `__str__` function since now we need to print more."
   ]
  },
  {
   "cell_type": "code",
   "execution_count": 63,
   "metadata": {},
   "outputs": [],
   "source": [
    "class EBook(Book):\n",
    "    def __init__(self, name, fmt, author = None):\n",
    "        Book.__init__(self, name, author) # this creates attributes we have in Book\n",
    "        self.fmt = fmt      # new attibute\n",
    "        \n",
    "    def __str__(self):      # override __str__() method\n",
    "        return super().__str__() + ', format: '+ self.fmt"
   ]
  },
  {
   "cell_type": "code",
   "execution_count": 64,
   "metadata": {},
   "outputs": [],
   "source": [
    "ebook_1 = EBook(\n",
    "    \"An Introduction to Statistical Learning - with Applications in R\", \"pdf\",\n",
    "    \"Trevor Hastie and Robert Tibshirani\"\n",
    ")"
   ]
  },
  {
   "cell_type": "code",
   "execution_count": 65,
   "metadata": {},
   "outputs": [
    {
     "name": "stdout",
     "output_type": "stream",
     "text": [
      "<An Introduction to Statistical Learning - with Applications in R> by Trevor Hastie and Robert Tibshirani, format: pdf\n"
     ]
    }
   ],
   "source": [
    "print(ebook_1)"
   ]
  },
  {
   "cell_type": "code",
   "execution_count": null,
   "metadata": {},
   "outputs": [],
   "source": []
  }
 ],
 "metadata": {
  "kernelspec": {
   "display_name": "Python 3",
   "language": "python",
   "name": "python3"
  },
  "language_info": {
   "codemirror_mode": {
    "name": "ipython",
    "version": 3
   },
   "file_extension": ".py",
   "mimetype": "text/x-python",
   "name": "python",
   "nbconvert_exporter": "python",
   "pygments_lexer": "ipython3",
   "version": "3.5.2"
  }
 },
 "nbformat": 4,
 "nbformat_minor": 2
}
